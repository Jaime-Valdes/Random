{
  "nbformat": 4,
  "nbformat_minor": 0,
  "metadata": {
    "colab": {
      "provenance": [],
      "authorship_tag": "ABX9TyPu0H1IpYWQTeZbX4xw+pQd",
      "include_colab_link": true
    },
    "kernelspec": {
      "name": "python3",
      "display_name": "Python 3"
    },
    "language_info": {
      "name": "python"
    }
  },
  "cells": [
    {
      "cell_type": "markdown",
      "metadata": {
        "id": "view-in-github",
        "colab_type": "text"
      },
      "source": [
        "<a href=\"https://colab.research.google.com/github/Jaime-Valdes/Random/blob/main/Lab6.ipynb\" target=\"_parent\"><img src=\"https://colab.research.google.com/assets/colab-badge.svg\" alt=\"Open In Colab\"/></a>"
      ]
    },
    {
      "cell_type": "code",
      "execution_count": 69,
      "metadata": {
        "colab": {
          "base_uri": "https://localhost:8080/"
        },
        "id": "n5loV0V6BnAL",
        "outputId": "7b6950fa-f5b1-48c6-ec07-cc4ed5602e51"
      },
      "outputs": [
        {
          "output_type": "stream",
          "name": "stdout",
          "text": [
            "0.38229036196477595\n",
            "0.02572544725435435\n",
            "Fraction of measurements within the range of 1 standard deviation: 0.96\n",
            "Fraction of measurements within the range of 1 standard deviation: 0.96\n"
          ]
        }
      ],
      "source": [
        "import numpy as np\n",
        "import matplotlib.pyplot as plt\n",
        "\n",
        "#v1, vc = np.loadtxt(\"Lab6.csv\", skiprows = 11, max_rows= 25, usecols = (15,16), delimiter = \",\", unpack = True, dtype=float)\n",
        "#plt.ylabel('Count')\n",
        "#plt.hist(vc/v1, range = [0.365, 0.39])\n",
        "\n",
        "def Q4(velocity):\n",
        "  xi = []\n",
        "  n1=0\n",
        "  n2=0\n",
        "  for x in range(0, len(velocity)):\n",
        "    xi.append(velocity[x])\n",
        "  xmean = sum(xi)/len(velocity)\n",
        "  strd = np.std(velocity) # Standard deviation\n",
        "  for x in range (0, len(velocity)):\n",
        "    if velocity[x] <= (xmean + strd) and velocity[x] >= (xmean - strd): # within the range of 1 SD\n",
        "      n1 += 1\n",
        "    if velocity[x] <= (xmean + 2*strd) and velocity[x] >= (xmean - 2*strd): # within the range of 2 SD\n",
        "      n2 += 1\n",
        "\n",
        "  fraction1 = n1/len(velocity)\n",
        "  fraction2 = n2/len(velocity)\n",
        "  print(xmean)\n",
        "  print(strd)\n",
        "  print(f\"Fraction of measurements within the range of 1 standard deviation: {fraction1}\")\n",
        "  print(f\"Fraction of measurements within the range of 1 standard deviation: {fraction2}\")\n",
        "\n",
        "Q4(vc/v1)\n",
        "\n",
        "\n",
        "\n",
        "\n"
      ]
    }
  ]
}