{
  "nbformat": 4,
  "nbformat_minor": 0,
  "metadata": {
    "colab": {
      "provenance": [],
      "authorship_tag": "ABX9TyP086Un6N5Qws/zX1yq81nR",
      "include_colab_link": true
    },
    "kernelspec": {
      "name": "python3",
      "display_name": "Python 3"
    },
    "language_info": {
      "name": "python"
    }
  },
  "cells": [
    {
      "cell_type": "markdown",
      "metadata": {
        "id": "view-in-github",
        "colab_type": "text"
      },
      "source": [
        "<a href=\"https://colab.research.google.com/github/Jaime-Valdes/Random/blob/main/Lab_4_Python.ipynb\" target=\"_parent\"><img src=\"https://colab.research.google.com/assets/colab-badge.svg\" alt=\"Open In Colab\"/></a>"
      ]
    },
    {
      "cell_type": "code",
      "execution_count": 41,
      "metadata": {
        "colab": {
          "base_uri": "https://localhost:8080/"
        },
        "id": "lvBOaVK7nCgL",
        "outputId": "7f9755e2-9339-45e6-c5ae-93863877afb0"
      },
      "outputs": [
        {
          "output_type": "stream",
          "name": "stdout",
          "text": [
            "-0.0004844594999999977\n",
            "[-0.00447587, -0.0013695499999999972, 0.0004740750000000009, 0.00011137000000000646, -0.0013695499999999972, 0.0004740750000000009, 0.0061795300000000025, -0.0025118449999999987, -0.0002543449999999961, 0.001190455000000007, 0.007395570000000002, -0.0036812300000000006, 0.007692055000000003, -0.0032884249999999976, -0.0036812300000000006, -0.001747305000000001, -0.002898629999999996, -0.002128069999999996, -0.0025118449999999987, -0.0032884249999999976]\n",
            "1.2520809251102255e-05\n",
            "1.3179799211686584e-05\n",
            "6.589899605843292e-07\n",
            "0.010406000000000002\n",
            "0.010953684210526319\n",
            "0.0005476842105263159\n"
          ]
        }
      ],
      "source": [
        "import numpy as np\n",
        "np.set_printoptions(precision=4)\n",
        "\n",
        "mr = 0.0301 #Mass of rubber tube\n",
        "mc = 0.0051 #Mass of cardboard roll\n",
        "umass = 0.001#Uncertainty of mass of cardboard roll & rubber tube\n",
        "g = 9.81\n",
        "ugravity = 0.1\n",
        "uheight = 0.001\n",
        "uvelo = 0.2\n",
        "r75 = [1.33, 1.25, 1.20, 1.21, 1.25, 1.20, 1.03, 1.28, 1.22, 1.18, 0.99, 1.31, 0.98, 1.30, 1.31, 1.26, 1.29, 1.27, 1.28, 1.30]\n",
        "r15 = [ 1.62, 1.44, 1.67, 1.54, 1.68, 1.65, 1.71, 1.70, 1.68, 1.69, 1.62, 1.65, 1.47, 1.47, 1.69, 1.46, 1.63, 1.39, 1.70, 1.62]\n",
        "r30 = [3.16,3.25,3.34, 3.36, 3.21,3.30,3.39,3.81,3.07,3.22,3.36,3.26,3.32,3.05,3.32,3.29,3.11,3.22,3.33,3.37]\n",
        "c10 = [1.41,1.31,1.37,1.38,1.37,1.36,1.39,1.38,1.34,1.40]\n",
        "c30 = [2.28,2.21,2.56,2.26,3.17,2.26,2.23,2.26,2.28,2.20]\n",
        "\n",
        "def deltaE(height, mass, velocity):\n",
        "  dE = []\n",
        "  deviation = []\n",
        "  sD = 0 #Standard deviation\n",
        "  sDoD = 0 #Standard deviation of distribudtion\n",
        "  sDsD = 0 #Standard deviation of Standard deviation\n",
        "  for x in range(0, len(velocity)):\n",
        "    EI = mass*g*height\n",
        "    EF = 1/2*mass*velocity[x]*velocity[x]\n",
        "    dE.append(EI - EF)\n",
        "  dEAVG = sum(dE)/20\n",
        "  for x in range(0, len(velocity)):\n",
        "    deviation.append((dE[x]-dEAVG)**2)\n",
        "  sD = (sum(deviation)/len(velocity))\n",
        "  sDoD = (sum(deviation)/(len(velocity) - 1))\n",
        "  sDsD = sD/((2*len(velocity) - 2)**1/2)\n",
        "  print(dEAVG)\n",
        "  print(dE)\n",
        "  print(sD)\n",
        "  print(sDoD)\n",
        "  print(sDsD)\n",
        "deltaE(.075,mr,r75)\n",
        "\n",
        "def uncertaintE(height, mass, velocity):\n",
        "  PE = mass*g*height\n",
        "  uE = []\n",
        "  uPE = PE*((umass/mass)**2+(ugravity/g)**2+(uheight/height)**2)**1/2\n",
        "  for x in range(0, len(velocity)):\n",
        "    KE = 1/2*mass*velocity[x]**2\n",
        "    uKE = KE*((umass/mass)**2+(uvelo/velocity[x])**2+(uvelo/velocity[x])**2)**1/2\n",
        "    uE.append(((uPE)**2+(uKE)**2)**1/2)\n",
        "  print(uE)\n",
        "\n",
        "def standardD(velocity):\n",
        "  xi = []\n",
        "  deviation = []\n",
        "  sD = 0 #Standard deviation\n",
        "  sDoD = 0 #Standard deviation of distribudtion\n",
        "  sDsD = 0 #Standard deviation of Standard deviation\n",
        "  for x in range(0, len(velocity)):\n",
        "    xi.append(velocity[x])\n",
        "  xmean = sum(xi)/len(velocity)\n",
        "  for x in range(0, len(velocity)):\n",
        "    deviation.append((xi[x]-xmean)**2)\n",
        "  sD = (sum(deviation)/len(velocity))\n",
        "  sDoD = (sum(deviation)/(len(velocity) - 1))\n",
        "  sDsD = sD/((2*len(velocity) - 2)**1/2)\n",
        "  print(sD)\n",
        "  print(sDoD)\n",
        "  print(sDsD)\n",
        "standardD(r75)"
      ]
    }
  ]
}