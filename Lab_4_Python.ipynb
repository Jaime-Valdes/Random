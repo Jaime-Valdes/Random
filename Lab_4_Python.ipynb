{
  "nbformat": 4,
  "nbformat_minor": 0,
  "metadata": {
    "colab": {
      "provenance": [],
      "authorship_tag": "ABX9TyOMud8otaAS2ZASE/EXT4kP",
      "include_colab_link": true
    },
    "kernelspec": {
      "name": "python3",
      "display_name": "Python 3"
    },
    "language_info": {
      "name": "python"
    }
  },
  "cells": [
    {
      "cell_type": "markdown",
      "metadata": {
        "id": "view-in-github",
        "colab_type": "text"
      },
      "source": [
        "<a href=\"https://colab.research.google.com/github/Jaime-Valdes/Random/blob/main/Lab_4_Python.ipynb\" target=\"_parent\"><img src=\"https://colab.research.google.com/assets/colab-badge.svg\" alt=\"Open In Colab\"/></a>"
      ]
    },
    {
      "cell_type": "code",
      "execution_count": 52,
      "metadata": {
        "colab": {
          "base_uri": "https://localhost:8080/"
        },
        "id": "lvBOaVK7nCgL",
        "outputId": "030c7231-c291-4c41-8d6b-2a7650e11435"
      },
      "outputs": [
        {
          "output_type": "stream",
          "name": "stdout",
          "text": [
            "10\n",
            "0.040134500000000004\n",
            "0.04459388888888889\n",
            "9.0\n",
            "2.3709999999999996\n"
          ]
        }
      ],
      "source": [
        "import numpy as np\n",
        "np.set_printoptions(precision=4)\n",
        "\n",
        "mr = 0.0301 #Mass of rubber tube\n",
        "mc = 0.0051 #Mass of cardboard roll\n",
        "mm = 0.1 # Mass of bob\n",
        "umass = 0.001#Uncertainty of mass of cardboard roll & rubber tube\n",
        "g = 9.81 #Acceleration due to gravity\n",
        "ugravity = 0.1 # Acceleration due to gravity uncertainty\n",
        "uheight = 0.001 # Height uncertainty\n",
        "uvelo = 0.2\n",
        "#rubber tube dropped from different heights:\n",
        "r75 = [1.33, 1.25, 1.20, 1.21, 1.25, 1.20, 1.03, 1.28, 1.22, 1.18, 0.99, 1.31, 0.98, 1.30, 1.31, 1.26, 1.29, 1.27, 1.28, 1.30]\n",
        "r15 = [ 1.62, 1.44, 1.67, 1.54, 1.68, 1.65, 1.71, 1.70, 1.68, 1.69, 1.62, 1.65, 1.47, 1.47, 1.69, 1.46, 1.63, 1.39, 1.70, 1.62]\n",
        "r30 = [3.16,3.25,3.34, 3.36, 3.21,3.30,3.39,3.81,3.07,3.22,3.36,3.26,3.32,3.05,3.32,3.29,3.11,3.22,3.33,3.37]\n",
        "#Cardboard roll dropped from different heights:\n",
        "c10 = [1.41,1.31,1.37,1.38,1.37,1.36,1.39,1.38,1.34,1.40]\n",
        "c30 = [2.28,2.21,2.56,2.26,3.17,2.26,2.23,2.26,2.28,2.20]\n",
        "#Pendulum swung from different heights:\n",
        "h4 = [1.05,1.07,1.10,1.07,1.13,1.10,1.07,1.11,1.12,1.08]\n",
        "h8 = [1.32,1.10,1.27,1.28,1.37,1.38,1.33,1.37,1.37,1.34]\n",
        "h12 = [1.55,1.59,1.63,1.62,1.63,1.38,1.60,1.61,1.61,1.61]\n",
        "\n",
        "def deltaE(height, mass, velocity):\n",
        "  dE = []\n",
        "  deviation = []\n",
        "  sD = 0 #Standard deviation\n",
        "  sDoD = 0 #Standard deviation of distribudtion\n",
        "  sDsD = 0 #Standard deviation of Standard deviation\n",
        "  for x in range(0, len(velocity)):\n",
        "    EI = mass*g*height\n",
        "    EF = 1/2*mass*velocity[x]*velocity[x]\n",
        "    dE.append(EI - EF)\n",
        "  dEAVG = sum(dE)/20\n",
        "  for x in range(0, len(velocity)):\n",
        "    deviation.append((dE[x]-dEAVG)**2)\n",
        "  sD = ((sum(deviation)/len(velocity))**1/2)\n",
        "  sDoD = ((sum(deviation)/(len(velocity) - 1))**1/2)\n",
        "  sDsD = ((2*len(velocity) - 2)**1/2)\n",
        "  print(dEAVG)\n",
        "  print(dE)\n",
        "  print(sD)\n",
        "  print(sDoD)\n",
        "  print(sDsD)\n",
        "#deltaE(.075,mr,r75)\n",
        "\n",
        "def uncertaintE(height, mass, velocity):\n",
        "  PE = mass*g*height #Potential energy\n",
        "  uE = []\n",
        "  uEAVG = 0\n",
        "  uPE = PE*((umass/mass)**2+(ugravity/g)**2+(uheight/height)**2)**1/2 #PE uncertainty\n",
        "  for x in range(0, len(velocity)):\n",
        "    KE = 1/2*mass*velocity[x]**2 #Kinetic energy\n",
        "    uKE = KE*(((umass/mass)**2+(2*(uvelo/velocity[x]))**2)**1/2) #KE uncertainty\n",
        "    uE.append(((uPE)**2+(uKE)**2)**1/2) #Energy uncertainty\n",
        "  uEAVG = sum(uE)/len(velocity)\n",
        "  print(uE)\n",
        "  print(uEAVG)\n",
        "\n",
        "#uncertaintE(.075, mr, r75)\n",
        "\n",
        "def standardD(velocity):\n",
        "  xi = []\n",
        "  deviation = []\n",
        "  sD = 0 #Standard deviation\n",
        "  sDoD = 0 #Standard deviation of distribudtion\n",
        "  sDsD = 0 #Standard deviation of Standard deviation\n",
        "  for x in range(0, len(velocity)):\n",
        "    xi.append(velocity[x])\n",
        "  xmean = sum(xi)/len(velocity)\n",
        "  for x in range(0, len(velocity)):\n",
        "    deviation.append((xi[x]-xmean)**2)\n",
        "  sD = ((sum(deviation)/len(velocity))**1/2)\n",
        "  sDoD = ((sum(deviation)/(len(velocity) - 1))**1/2)\n",
        "  sDsD = ((2*len(velocity) - 2)**1/2)\n",
        "  N = 0\n",
        "  for x in range(0, len(velocity)):\n",
        "    if velocity[x] >= (xmean + sD):\n",
        "      N+=1\n",
        "    if velocity[x] <= (xmean - sD):\n",
        "      N+=1\n",
        "\n",
        "  print(N)\n",
        "  print(sD)\n",
        "  print(sDoD)\n",
        "  print(sDsD)\n",
        "  print(xmean)\n",
        "standardD(c30)\n",
        "\n",
        "#print(sum(c10))"
      ]
    }
  ]
}